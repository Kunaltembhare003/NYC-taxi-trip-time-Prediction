{
  "nbformat": 4,
  "nbformat_minor": 0,
  "metadata": {
    "kernelspec": {
      "display_name": "Python 3",
      "language": "python",
      "name": "python3"
    },
    "language_info": {
      "codemirror_mode": {
        "name": "ipython",
        "version": 3
      },
      "file_extension": ".py",
      "mimetype": "text/x-python",
      "name": "python",
      "nbconvert_exporter": "python",
      "pygments_lexer": "ipython3",
      "version": "3.6.6"
    },
    "colab": {
      "name": "NYC Taxi Trip Time Prediction - Capstone Project.ipynb",
      "provenance": [],
      "collapsed_sections": [
        "XUa7eac3uYBy"
      ],
      "include_colab_link": true
    }
  },
  "cells": [
    {
      "cell_type": "markdown",
      "metadata": {
        "id": "view-in-github",
        "colab_type": "text"
      },
      "source": [
        "<a href=\"https://colab.research.google.com/github/Kunaltembhare003/NYC-taxi-trip-time-Prediction/blob/main/NYC_Taxi_Trip_Time_Prediction_Capstone_Project.ipynb\" target=\"_parent\"><img src=\"https://colab.research.google.com/assets/colab-badge.svg\" alt=\"Open In Colab\"/></a>"
      ]
    },
    {
      "cell_type": "markdown",
      "metadata": {
        "id": "tOGC-qoyhJeX"
      },
      "source": [
        "# <b><u> Project Title : Taxi trip time Prediction : Predicting total ride duration of taxi trips in New York City</u></b>"
      ]
    },
    {
      "cell_type": "markdown",
      "metadata": {
        "id": "Y06xIdG26kRF"
      },
      "source": [
        "## <b> Problem Description </b>\n",
        "\n",
        "### Your task is to build a model that predicts the total ride duration of taxi trips in New York City. Your primary dataset is one released by the NYC Taxi and Limousine Commission, which includes pickup time, geo-coordinates, number of passengers, and several other variables."
      ]
    },
    {
      "cell_type": "markdown",
      "metadata": {
        "id": "WWeU1f9bwqQq"
      },
      "source": [
        "## <b> Data Description </b>\n",
        "\n",
        "### The dataset is based on the 2016 NYC Yellow Cab trip record data made available in Big Query on Google Cloud Platform. The data was originally published by the NYC Taxi and Limousine Commission (TLC). The data was sampled and cleaned for the purposes of this project. Based on individual trip attributes, you should predict the duration of each trip in the test set.\n",
        "\n",
        "### <b>NYC Taxi Data.csv</b> - the training set (contains 1458644 trip records)\n",
        "\n",
        "\n",
        "### Data fields\n",
        "* #### id - a unique identifier for each trip\n",
        "* #### vendor_id - a code indicating the provider associated with the trip record\n",
        "* #### pickup_datetime - date and time when the meter was engaged\n",
        "* #### dropoff_datetime - date and time when the meter was disengaged\n",
        "* #### passenger_count - the number of passengers in the vehicle (driver entered value)\n",
        "* #### pickup_longitude - the longitude where the meter was engaged\n",
        "* #### pickup_latitude - the latitude where the meter was engaged\n",
        "* #### dropoff_longitude - the longitude where the meter was disengaged\n",
        "* #### dropoff_latitude - the latitude where the meter was disengaged\n",
        "* #### store_and_fwd_flag - This flag indicates whether the trip record was held in vehicle memory before sending to the vendor because the vehicle did not have a connection to the server - Y=store and forward; N=not a store and forward trip\n",
        "* #### trip_duration - duration of the trip in seconds"
      ]
    },
    {
      "cell_type": "markdown",
      "metadata": {
        "id": "guckkiYFLXRz"
      },
      "source": [
        "#Data preprocessing"
      ]
    },
    {
      "cell_type": "code",
      "metadata": {
        "colab": {
          "base_uri": "https://localhost:8080/"
        },
        "id": "frEeexb2FSi9",
        "outputId": "ca0a1f10-34df-4896-c1e3-6bc6e4340ffa"
      },
      "source": [
        "from google.colab import drive\n",
        "drive.mount('/content/drive')"
      ],
      "execution_count": 1,
      "outputs": [
        {
          "output_type": "stream",
          "name": "stdout",
          "text": [
            "Mounted at /content/drive\n"
          ]
        }
      ]
    },
    {
      "cell_type": "code",
      "metadata": {
        "colab": {
          "base_uri": "https://localhost:8080/"
        },
        "id": "w71p1Rz8aezC",
        "outputId": "a88775ef-bb94-4e99-b044-ba1f5d01609e"
      },
      "source": [
        "pip install geopandas"
      ],
      "execution_count": 2,
      "outputs": [
        {
          "output_type": "stream",
          "name": "stdout",
          "text": [
            "Collecting geopandas\n",
            "  Downloading geopandas-0.9.0-py2.py3-none-any.whl (994 kB)\n",
            "\u001b[?25l\r\u001b[K     |▎                               | 10 kB 22.9 MB/s eta 0:00:01\r\u001b[K     |▋                               | 20 kB 29.5 MB/s eta 0:00:01\r\u001b[K     |█                               | 30 kB 12.0 MB/s eta 0:00:01\r\u001b[K     |█▎                              | 40 kB 9.5 MB/s eta 0:00:01\r\u001b[K     |█▋                              | 51 kB 5.0 MB/s eta 0:00:01\r\u001b[K     |██                              | 61 kB 5.5 MB/s eta 0:00:01\r\u001b[K     |██▎                             | 71 kB 5.8 MB/s eta 0:00:01\r\u001b[K     |██▋                             | 81 kB 6.5 MB/s eta 0:00:01\r\u001b[K     |███                             | 92 kB 6.9 MB/s eta 0:00:01\r\u001b[K     |███▎                            | 102 kB 5.3 MB/s eta 0:00:01\r\u001b[K     |███▋                            | 112 kB 5.3 MB/s eta 0:00:01\r\u001b[K     |████                            | 122 kB 5.3 MB/s eta 0:00:01\r\u001b[K     |████▎                           | 133 kB 5.3 MB/s eta 0:00:01\r\u001b[K     |████▋                           | 143 kB 5.3 MB/s eta 0:00:01\r\u001b[K     |█████                           | 153 kB 5.3 MB/s eta 0:00:01\r\u001b[K     |█████▎                          | 163 kB 5.3 MB/s eta 0:00:01\r\u001b[K     |█████▋                          | 174 kB 5.3 MB/s eta 0:00:01\r\u001b[K     |██████                          | 184 kB 5.3 MB/s eta 0:00:01\r\u001b[K     |██████▎                         | 194 kB 5.3 MB/s eta 0:00:01\r\u001b[K     |██████▋                         | 204 kB 5.3 MB/s eta 0:00:01\r\u001b[K     |███████                         | 215 kB 5.3 MB/s eta 0:00:01\r\u001b[K     |███████▎                        | 225 kB 5.3 MB/s eta 0:00:01\r\u001b[K     |███████▋                        | 235 kB 5.3 MB/s eta 0:00:01\r\u001b[K     |████████                        | 245 kB 5.3 MB/s eta 0:00:01\r\u001b[K     |████████▎                       | 256 kB 5.3 MB/s eta 0:00:01\r\u001b[K     |████████▋                       | 266 kB 5.3 MB/s eta 0:00:01\r\u001b[K     |█████████                       | 276 kB 5.3 MB/s eta 0:00:01\r\u001b[K     |█████████▎                      | 286 kB 5.3 MB/s eta 0:00:01\r\u001b[K     |█████████▌                      | 296 kB 5.3 MB/s eta 0:00:01\r\u001b[K     |█████████▉                      | 307 kB 5.3 MB/s eta 0:00:01\r\u001b[K     |██████████▏                     | 317 kB 5.3 MB/s eta 0:00:01\r\u001b[K     |██████████▌                     | 327 kB 5.3 MB/s eta 0:00:01\r\u001b[K     |██████████▉                     | 337 kB 5.3 MB/s eta 0:00:01\r\u001b[K     |███████████▏                    | 348 kB 5.3 MB/s eta 0:00:01\r\u001b[K     |███████████▌                    | 358 kB 5.3 MB/s eta 0:00:01\r\u001b[K     |███████████▉                    | 368 kB 5.3 MB/s eta 0:00:01\r\u001b[K     |████████████▏                   | 378 kB 5.3 MB/s eta 0:00:01\r\u001b[K     |████████████▌                   | 389 kB 5.3 MB/s eta 0:00:01\r\u001b[K     |████████████▉                   | 399 kB 5.3 MB/s eta 0:00:01\r\u001b[K     |█████████████▏                  | 409 kB 5.3 MB/s eta 0:00:01\r\u001b[K     |█████████████▌                  | 419 kB 5.3 MB/s eta 0:00:01\r\u001b[K     |█████████████▉                  | 430 kB 5.3 MB/s eta 0:00:01\r\u001b[K     |██████████████▏                 | 440 kB 5.3 MB/s eta 0:00:01\r\u001b[K     |██████████████▌                 | 450 kB 5.3 MB/s eta 0:00:01\r\u001b[K     |██████████████▉                 | 460 kB 5.3 MB/s eta 0:00:01\r\u001b[K     |███████████████▏                | 471 kB 5.3 MB/s eta 0:00:01\r\u001b[K     |███████████████▌                | 481 kB 5.3 MB/s eta 0:00:01\r\u001b[K     |███████████████▉                | 491 kB 5.3 MB/s eta 0:00:01\r\u001b[K     |████████████████▏               | 501 kB 5.3 MB/s eta 0:00:01\r\u001b[K     |████████████████▌               | 512 kB 5.3 MB/s eta 0:00:01\r\u001b[K     |████████████████▉               | 522 kB 5.3 MB/s eta 0:00:01\r\u001b[K     |█████████████████▏              | 532 kB 5.3 MB/s eta 0:00:01\r\u001b[K     |█████████████████▌              | 542 kB 5.3 MB/s eta 0:00:01\r\u001b[K     |█████████████████▉              | 552 kB 5.3 MB/s eta 0:00:01\r\u001b[K     |██████████████████▏             | 563 kB 5.3 MB/s eta 0:00:01\r\u001b[K     |██████████████████▌             | 573 kB 5.3 MB/s eta 0:00:01\r\u001b[K     |██████████████████▊             | 583 kB 5.3 MB/s eta 0:00:01\r\u001b[K     |███████████████████             | 593 kB 5.3 MB/s eta 0:00:01\r\u001b[K     |███████████████████▍            | 604 kB 5.3 MB/s eta 0:00:01\r\u001b[K     |███████████████████▊            | 614 kB 5.3 MB/s eta 0:00:01\r\u001b[K     |████████████████████            | 624 kB 5.3 MB/s eta 0:00:01\r\u001b[K     |████████████████████▍           | 634 kB 5.3 MB/s eta 0:00:01\r\u001b[K     |████████████████████▊           | 645 kB 5.3 MB/s eta 0:00:01\r\u001b[K     |█████████████████████           | 655 kB 5.3 MB/s eta 0:00:01\r\u001b[K     |█████████████████████▍          | 665 kB 5.3 MB/s eta 0:00:01\r\u001b[K     |█████████████████████▊          | 675 kB 5.3 MB/s eta 0:00:01\r\u001b[K     |██████████████████████          | 686 kB 5.3 MB/s eta 0:00:01\r\u001b[K     |██████████████████████▍         | 696 kB 5.3 MB/s eta 0:00:01\r\u001b[K     |██████████████████████▊         | 706 kB 5.3 MB/s eta 0:00:01\r\u001b[K     |███████████████████████         | 716 kB 5.3 MB/s eta 0:00:01\r\u001b[K     |███████████████████████▍        | 727 kB 5.3 MB/s eta 0:00:01\r\u001b[K     |███████████████████████▊        | 737 kB 5.3 MB/s eta 0:00:01\r\u001b[K     |████████████████████████        | 747 kB 5.3 MB/s eta 0:00:01\r\u001b[K     |████████████████████████▍       | 757 kB 5.3 MB/s eta 0:00:01\r\u001b[K     |████████████████████████▊       | 768 kB 5.3 MB/s eta 0:00:01\r\u001b[K     |█████████████████████████       | 778 kB 5.3 MB/s eta 0:00:01\r\u001b[K     |█████████████████████████▍      | 788 kB 5.3 MB/s eta 0:00:01\r\u001b[K     |█████████████████████████▊      | 798 kB 5.3 MB/s eta 0:00:01\r\u001b[K     |██████████████████████████      | 808 kB 5.3 MB/s eta 0:00:01\r\u001b[K     |██████████████████████████▍     | 819 kB 5.3 MB/s eta 0:00:01\r\u001b[K     |██████████████████████████▊     | 829 kB 5.3 MB/s eta 0:00:01\r\u001b[K     |███████████████████████████     | 839 kB 5.3 MB/s eta 0:00:01\r\u001b[K     |███████████████████████████▍    | 849 kB 5.3 MB/s eta 0:00:01\r\u001b[K     |███████████████████████████▊    | 860 kB 5.3 MB/s eta 0:00:01\r\u001b[K     |████████████████████████████    | 870 kB 5.3 MB/s eta 0:00:01\r\u001b[K     |████████████████████████████▎   | 880 kB 5.3 MB/s eta 0:00:01\r\u001b[K     |████████████████████████████▋   | 890 kB 5.3 MB/s eta 0:00:01\r\u001b[K     |█████████████████████████████   | 901 kB 5.3 MB/s eta 0:00:01\r\u001b[K     |█████████████████████████████▎  | 911 kB 5.3 MB/s eta 0:00:01\r\u001b[K     |█████████████████████████████▋  | 921 kB 5.3 MB/s eta 0:00:01\r\u001b[K     |██████████████████████████████  | 931 kB 5.3 MB/s eta 0:00:01\r\u001b[K     |██████████████████████████████▎ | 942 kB 5.3 MB/s eta 0:00:01\r\u001b[K     |██████████████████████████████▋ | 952 kB 5.3 MB/s eta 0:00:01\r\u001b[K     |███████████████████████████████ | 962 kB 5.3 MB/s eta 0:00:01\r\u001b[K     |███████████████████████████████▎| 972 kB 5.3 MB/s eta 0:00:01\r\u001b[K     |███████████████████████████████▋| 983 kB 5.3 MB/s eta 0:00:01\r\u001b[K     |████████████████████████████████| 993 kB 5.3 MB/s eta 0:00:01\r\u001b[K     |████████████████████████████████| 994 kB 5.3 MB/s \n",
            "\u001b[?25hRequirement already satisfied: pandas>=0.24.0 in /usr/local/lib/python3.7/dist-packages (from geopandas) (1.1.5)\n",
            "Requirement already satisfied: shapely>=1.6 in /usr/local/lib/python3.7/dist-packages (from geopandas) (1.7.1)\n",
            "Collecting fiona>=1.8\n",
            "  Downloading Fiona-1.8.20-cp37-cp37m-manylinux1_x86_64.whl (15.4 MB)\n",
            "\u001b[K     |████████████████████████████████| 15.4 MB 38 kB/s \n",
            "\u001b[?25hCollecting pyproj>=2.2.0\n",
            "  Downloading pyproj-3.2.1-cp37-cp37m-manylinux2010_x86_64.whl (6.3 MB)\n",
            "\u001b[K     |████████████████████████████████| 6.3 MB 42.8 MB/s \n",
            "\u001b[?25hRequirement already satisfied: six>=1.7 in /usr/local/lib/python3.7/dist-packages (from fiona>=1.8->geopandas) (1.15.0)\n",
            "Requirement already satisfied: attrs>=17 in /usr/local/lib/python3.7/dist-packages (from fiona>=1.8->geopandas) (21.2.0)\n",
            "Collecting click-plugins>=1.0\n",
            "  Downloading click_plugins-1.1.1-py2.py3-none-any.whl (7.5 kB)\n",
            "Requirement already satisfied: setuptools in /usr/local/lib/python3.7/dist-packages (from fiona>=1.8->geopandas) (57.4.0)\n",
            "Collecting munch\n",
            "  Downloading munch-2.5.0-py2.py3-none-any.whl (10 kB)\n",
            "Collecting cligj>=0.5\n",
            "  Downloading cligj-0.7.2-py3-none-any.whl (7.1 kB)\n",
            "Requirement already satisfied: certifi in /usr/local/lib/python3.7/dist-packages (from fiona>=1.8->geopandas) (2021.5.30)\n",
            "Requirement already satisfied: click>=4.0 in /usr/local/lib/python3.7/dist-packages (from fiona>=1.8->geopandas) (7.1.2)\n",
            "Requirement already satisfied: numpy>=1.15.4 in /usr/local/lib/python3.7/dist-packages (from pandas>=0.24.0->geopandas) (1.19.5)\n",
            "Requirement already satisfied: python-dateutil>=2.7.3 in /usr/local/lib/python3.7/dist-packages (from pandas>=0.24.0->geopandas) (2.8.2)\n",
            "Requirement already satisfied: pytz>=2017.2 in /usr/local/lib/python3.7/dist-packages (from pandas>=0.24.0->geopandas) (2018.9)\n",
            "Installing collected packages: munch, cligj, click-plugins, pyproj, fiona, geopandas\n",
            "Successfully installed click-plugins-1.1.1 cligj-0.7.2 fiona-1.8.20 geopandas-0.9.0 munch-2.5.0 pyproj-3.2.1\n"
          ]
        }
      ]
    },
    {
      "cell_type": "code",
      "metadata": {
        "id": "_HfQIp9fFTa6"
      },
      "source": [
        "import pandas as pd\n",
        "import numpy as np\n",
        "import matplotlib.pyplot as plt\n",
        "import datetime as dt\n",
        "import seaborn as sns\n",
        "from sklearn import preprocessing"
      ],
      "execution_count": 3,
      "outputs": []
    },
    {
      "cell_type": "code",
      "metadata": {
        "colab": {
          "base_uri": "https://localhost:8080/",
          "height": 313
        },
        "id": "jcJQtLpxFlwq",
        "outputId": "a42f54b4-a9a1-4dad-a98e-fb5b6d2fac4b"
      },
      "source": [
        "#load NYC Taxi trip time dataset\n",
        "data = pd.read_csv('/content/drive/MyDrive/alma_better/capstone_project/NYC_Taxi_trip_project/NYC_Taxi_Data.csv',sep=',')\n",
        "data.head()"
      ],
      "execution_count": 4,
      "outputs": [
        {
          "output_type": "execute_result",
          "data": {
            "text/html": [
              "<div>\n",
              "<style scoped>\n",
              "    .dataframe tbody tr th:only-of-type {\n",
              "        vertical-align: middle;\n",
              "    }\n",
              "\n",
              "    .dataframe tbody tr th {\n",
              "        vertical-align: top;\n",
              "    }\n",
              "\n",
              "    .dataframe thead th {\n",
              "        text-align: right;\n",
              "    }\n",
              "</style>\n",
              "<table border=\"1\" class=\"dataframe\">\n",
              "  <thead>\n",
              "    <tr style=\"text-align: right;\">\n",
              "      <th></th>\n",
              "      <th>id</th>\n",
              "      <th>vendor_id</th>\n",
              "      <th>pickup_datetime</th>\n",
              "      <th>dropoff_datetime</th>\n",
              "      <th>passenger_count</th>\n",
              "      <th>pickup_longitude</th>\n",
              "      <th>pickup_latitude</th>\n",
              "      <th>dropoff_longitude</th>\n",
              "      <th>dropoff_latitude</th>\n",
              "      <th>store_and_fwd_flag</th>\n",
              "      <th>trip_duration</th>\n",
              "    </tr>\n",
              "  </thead>\n",
              "  <tbody>\n",
              "    <tr>\n",
              "      <th>0</th>\n",
              "      <td>id2875421</td>\n",
              "      <td>2</td>\n",
              "      <td>2016-03-14 17:24:55</td>\n",
              "      <td>2016-03-14 17:32:30</td>\n",
              "      <td>1</td>\n",
              "      <td>-73.982155</td>\n",
              "      <td>40.767937</td>\n",
              "      <td>-73.964630</td>\n",
              "      <td>40.765602</td>\n",
              "      <td>N</td>\n",
              "      <td>455</td>\n",
              "    </tr>\n",
              "    <tr>\n",
              "      <th>1</th>\n",
              "      <td>id2377394</td>\n",
              "      <td>1</td>\n",
              "      <td>2016-06-12 00:43:35</td>\n",
              "      <td>2016-06-12 00:54:38</td>\n",
              "      <td>1</td>\n",
              "      <td>-73.980415</td>\n",
              "      <td>40.738564</td>\n",
              "      <td>-73.999481</td>\n",
              "      <td>40.731152</td>\n",
              "      <td>N</td>\n",
              "      <td>663</td>\n",
              "    </tr>\n",
              "    <tr>\n",
              "      <th>2</th>\n",
              "      <td>id3858529</td>\n",
              "      <td>2</td>\n",
              "      <td>2016-01-19 11:35:24</td>\n",
              "      <td>2016-01-19 12:10:48</td>\n",
              "      <td>1</td>\n",
              "      <td>-73.979027</td>\n",
              "      <td>40.763939</td>\n",
              "      <td>-74.005333</td>\n",
              "      <td>40.710087</td>\n",
              "      <td>N</td>\n",
              "      <td>2124</td>\n",
              "    </tr>\n",
              "    <tr>\n",
              "      <th>3</th>\n",
              "      <td>id3504673</td>\n",
              "      <td>2</td>\n",
              "      <td>2016-04-06 19:32:31</td>\n",
              "      <td>2016-04-06 19:39:40</td>\n",
              "      <td>1</td>\n",
              "      <td>-74.010040</td>\n",
              "      <td>40.719971</td>\n",
              "      <td>-74.012268</td>\n",
              "      <td>40.706718</td>\n",
              "      <td>N</td>\n",
              "      <td>429</td>\n",
              "    </tr>\n",
              "    <tr>\n",
              "      <th>4</th>\n",
              "      <td>id2181028</td>\n",
              "      <td>2</td>\n",
              "      <td>2016-03-26 13:30:55</td>\n",
              "      <td>2016-03-26 13:38:10</td>\n",
              "      <td>1</td>\n",
              "      <td>-73.973053</td>\n",
              "      <td>40.793209</td>\n",
              "      <td>-73.972923</td>\n",
              "      <td>40.782520</td>\n",
              "      <td>N</td>\n",
              "      <td>435</td>\n",
              "    </tr>\n",
              "  </tbody>\n",
              "</table>\n",
              "</div>"
            ],
            "text/plain": [
              "          id  vendor_id  ... store_and_fwd_flag trip_duration\n",
              "0  id2875421          2  ...                  N           455\n",
              "1  id2377394          1  ...                  N           663\n",
              "2  id3858529          2  ...                  N          2124\n",
              "3  id3504673          2  ...                  N           429\n",
              "4  id2181028          2  ...                  N           435\n",
              "\n",
              "[5 rows x 11 columns]"
            ]
          },
          "metadata": {},
          "execution_count": 4
        }
      ]
    },
    {
      "cell_type": "code",
      "metadata": {
        "colab": {
          "base_uri": "https://localhost:8080/"
        },
        "id": "bojdUvXhGY2G",
        "outputId": "47a8b23f-8988-4f7d-e247-305d13b940ae"
      },
      "source": [
        "data.info()"
      ],
      "execution_count": 5,
      "outputs": [
        {
          "output_type": "stream",
          "name": "stdout",
          "text": [
            "<class 'pandas.core.frame.DataFrame'>\n",
            "RangeIndex: 1458644 entries, 0 to 1458643\n",
            "Data columns (total 11 columns):\n",
            " #   Column              Non-Null Count    Dtype  \n",
            "---  ------              --------------    -----  \n",
            " 0   id                  1458644 non-null  object \n",
            " 1   vendor_id           1458644 non-null  int64  \n",
            " 2   pickup_datetime     1458644 non-null  object \n",
            " 3   dropoff_datetime    1458644 non-null  object \n",
            " 4   passenger_count     1458644 non-null  int64  \n",
            " 5   pickup_longitude    1458644 non-null  float64\n",
            " 6   pickup_latitude     1458644 non-null  float64\n",
            " 7   dropoff_longitude   1458644 non-null  float64\n",
            " 8   dropoff_latitude    1458644 non-null  float64\n",
            " 9   store_and_fwd_flag  1458644 non-null  object \n",
            " 10  trip_duration       1458644 non-null  int64  \n",
            "dtypes: float64(4), int64(3), object(4)\n",
            "memory usage: 122.4+ MB\n"
          ]
        }
      ]
    },
    {
      "cell_type": "markdown",
      "metadata": {
        "id": "Kb3zN39aHrsP"
      },
      "source": [
        "no null value in dataset"
      ]
    },
    {
      "cell_type": "code",
      "metadata": {
        "id": "Bo595TjWT9Jc"
      },
      "source": [
        "data['pickup_datetime'] = pd.to_datetime(data['pickup_datetime'])\n",
        "data['dropoff_datetime'] = pd.to_datetime(data['dropoff_datetime'])"
      ],
      "execution_count": 6,
      "outputs": []
    },
    {
      "cell_type": "code",
      "metadata": {
        "colab": {
          "base_uri": "https://localhost:8080/",
          "height": 320
        },
        "id": "gSQvoyHuHEiL",
        "outputId": "4b5a9c3a-0c61-49e9-f76e-6f97b7b4296f"
      },
      "source": [
        "data.describe().apply(lambda s: s.apply(lambda x: format(x, 'g'))) # to change scientific value to count value"
      ],
      "execution_count": 7,
      "outputs": [
        {
          "output_type": "execute_result",
          "data": {
            "text/html": [
              "<div>\n",
              "<style scoped>\n",
              "    .dataframe tbody tr th:only-of-type {\n",
              "        vertical-align: middle;\n",
              "    }\n",
              "\n",
              "    .dataframe tbody tr th {\n",
              "        vertical-align: top;\n",
              "    }\n",
              "\n",
              "    .dataframe thead th {\n",
              "        text-align: right;\n",
              "    }\n",
              "</style>\n",
              "<table border=\"1\" class=\"dataframe\">\n",
              "  <thead>\n",
              "    <tr style=\"text-align: right;\">\n",
              "      <th></th>\n",
              "      <th>vendor_id</th>\n",
              "      <th>passenger_count</th>\n",
              "      <th>pickup_longitude</th>\n",
              "      <th>pickup_latitude</th>\n",
              "      <th>dropoff_longitude</th>\n",
              "      <th>dropoff_latitude</th>\n",
              "      <th>trip_duration</th>\n",
              "    </tr>\n",
              "  </thead>\n",
              "  <tbody>\n",
              "    <tr>\n",
              "      <th>count</th>\n",
              "      <td>1.45864e+06</td>\n",
              "      <td>1.45864e+06</td>\n",
              "      <td>1.45864e+06</td>\n",
              "      <td>1.45864e+06</td>\n",
              "      <td>1.45864e+06</td>\n",
              "      <td>1.45864e+06</td>\n",
              "      <td>1.45864e+06</td>\n",
              "    </tr>\n",
              "    <tr>\n",
              "      <th>mean</th>\n",
              "      <td>1.53495</td>\n",
              "      <td>1.66453</td>\n",
              "      <td>-73.9735</td>\n",
              "      <td>40.7509</td>\n",
              "      <td>-73.9734</td>\n",
              "      <td>40.7518</td>\n",
              "      <td>959.492</td>\n",
              "    </tr>\n",
              "    <tr>\n",
              "      <th>std</th>\n",
              "      <td>0.498777</td>\n",
              "      <td>1.31424</td>\n",
              "      <td>0.0709019</td>\n",
              "      <td>0.0328812</td>\n",
              "      <td>0.0706433</td>\n",
              "      <td>0.0358906</td>\n",
              "      <td>5237.43</td>\n",
              "    </tr>\n",
              "    <tr>\n",
              "      <th>min</th>\n",
              "      <td>1</td>\n",
              "      <td>0</td>\n",
              "      <td>-121.933</td>\n",
              "      <td>34.3597</td>\n",
              "      <td>-121.933</td>\n",
              "      <td>32.1811</td>\n",
              "      <td>1</td>\n",
              "    </tr>\n",
              "    <tr>\n",
              "      <th>25%</th>\n",
              "      <td>1</td>\n",
              "      <td>1</td>\n",
              "      <td>-73.9919</td>\n",
              "      <td>40.7373</td>\n",
              "      <td>-73.9913</td>\n",
              "      <td>40.7359</td>\n",
              "      <td>397</td>\n",
              "    </tr>\n",
              "    <tr>\n",
              "      <th>50%</th>\n",
              "      <td>2</td>\n",
              "      <td>1</td>\n",
              "      <td>-73.9817</td>\n",
              "      <td>40.7541</td>\n",
              "      <td>-73.9798</td>\n",
              "      <td>40.7545</td>\n",
              "      <td>662</td>\n",
              "    </tr>\n",
              "    <tr>\n",
              "      <th>75%</th>\n",
              "      <td>2</td>\n",
              "      <td>2</td>\n",
              "      <td>-73.9673</td>\n",
              "      <td>40.7684</td>\n",
              "      <td>-73.963</td>\n",
              "      <td>40.7698</td>\n",
              "      <td>1075</td>\n",
              "    </tr>\n",
              "    <tr>\n",
              "      <th>max</th>\n",
              "      <td>2</td>\n",
              "      <td>9</td>\n",
              "      <td>-61.3355</td>\n",
              "      <td>51.8811</td>\n",
              "      <td>-61.3355</td>\n",
              "      <td>43.921</td>\n",
              "      <td>3.52628e+06</td>\n",
              "    </tr>\n",
              "  </tbody>\n",
              "</table>\n",
              "</div>"
            ],
            "text/plain": [
              "         vendor_id passenger_count  ... dropoff_latitude trip_duration\n",
              "count  1.45864e+06     1.45864e+06  ...      1.45864e+06   1.45864e+06\n",
              "mean       1.53495         1.66453  ...          40.7518       959.492\n",
              "std       0.498777         1.31424  ...        0.0358906       5237.43\n",
              "min              1               0  ...          32.1811             1\n",
              "25%              1               1  ...          40.7359           397\n",
              "50%              2               1  ...          40.7545           662\n",
              "75%              2               2  ...          40.7698          1075\n",
              "max              2               9  ...           43.921   3.52628e+06\n",
              "\n",
              "[8 rows x 7 columns]"
            ]
          },
          "metadata": {},
          "execution_count": 7
        }
      ]
    },
    {
      "cell_type": "markdown",
      "metadata": {
        "id": "kQCCwbw1Ncdc"
      },
      "source": [
        "Finding Distance by using pickup_lat,pickup_long,dropoff_lat,dropoff_long values"
      ]
    },
    {
      "cell_type": "code",
      "metadata": {
        "id": "oda0-LICHnyt"
      },
      "source": [
        "from geopy.distance import great_circle"
      ],
      "execution_count": 8,
      "outputs": []
    },
    {
      "cell_type": "code",
      "metadata": {
        "id": "-SQbKEYhNfHk"
      },
      "source": [
        "def find_distance(pickup_lat,pickup_long,dropoff_lat,dropoff_long):\n",
        " \n",
        " start=(pickup_lat,pickup_long)\n",
        " end=(dropoff_lat,dropoff_long)\n",
        " \n",
        " return great_circle(start,end).km"
      ],
      "execution_count": 9,
      "outputs": []
    },
    {
      "cell_type": "code",
      "metadata": {
        "id": "my73LYLiNgvn"
      },
      "source": [
        "#finding distance travel in each trip\n",
        "data['distance'] = data.apply(lambda x: find_distance(x['pickup_latitude'],\n",
        "                                                      x['pickup_longitude'],\n",
        "                                                      x['dropoff_latitude'],\n",
        "                                                      x['dropoff_longitude'] ), axis=1)"
      ],
      "execution_count": 10,
      "outputs": []
    },
    {
      "cell_type": "markdown",
      "metadata": {
        "id": "XUa7eac3uYBy"
      },
      "source": [
        "#feature creation"
      ]
    },
    {
      "cell_type": "markdown",
      "metadata": {
        "id": "Y8zzXSSSObVh"
      },
      "source": [
        "AVG SPEED OF VEHICLE"
      ]
    },
    {
      "cell_type": "code",
      "metadata": {
        "id": "K_FxWH9UOAAN"
      },
      "source": [
        "data['avg_speed'] = (data.distance/(data.trip_duration/3600))"
      ],
      "execution_count": 11,
      "outputs": []
    },
    {
      "cell_type": "code",
      "metadata": {
        "id": "-7hyJEIaPgCO"
      },
      "source": [
        "data['pickup_weekday']=data['pickup_datetime'].dt.day_name()\n",
        "data['dropoff_weekday']=data['dropoff_datetime'].dt.day_name()\n",
        "data['pickup_weekday_num']=data['pickup_datetime'].dt.weekday\n",
        "data['pickup_hour']=data['pickup_datetime'].dt.hour\n",
        "data['month']=data['pickup_datetime'].dt.month"
      ],
      "execution_count": 12,
      "outputs": []
    },
    {
      "cell_type": "code",
      "metadata": {
        "id": "KwIzlIXRw12X"
      },
      "source": [
        "# at which time customer board taxi \n",
        "def time_of_day(x):\n",
        "    if x in range(6,12):\n",
        "        return 'Morning'\n",
        "    elif x in range(12,16):\n",
        "        return 'Afternoon'\n",
        "    elif x in range(16,22):\n",
        "        return 'Evening'\n",
        "    else:\n",
        "        return 'Late night'"
      ],
      "execution_count": 13,
      "outputs": []
    },
    {
      "cell_type": "code",
      "metadata": {
        "id": "AaDssquaxFHD"
      },
      "source": [
        "data['pickup_timeofday']=data['pickup_hour'].apply(time_of_day)"
      ],
      "execution_count": 14,
      "outputs": []
    },
    {
      "cell_type": "code",
      "metadata": {
        "colab": {
          "base_uri": "https://localhost:8080/",
          "height": 0
        },
        "id": "jVaNb7LAxIcN",
        "outputId": "6110ee0d-d4c1-4b40-ea90-28270d260b14"
      },
      "source": [
        "data.describe().apply(lambda s: s.apply(lambda x: format(x, 'g')))"
      ],
      "execution_count": 15,
      "outputs": [
        {
          "output_type": "execute_result",
          "data": {
            "text/html": [
              "<div>\n",
              "<style scoped>\n",
              "    .dataframe tbody tr th:only-of-type {\n",
              "        vertical-align: middle;\n",
              "    }\n",
              "\n",
              "    .dataframe tbody tr th {\n",
              "        vertical-align: top;\n",
              "    }\n",
              "\n",
              "    .dataframe thead th {\n",
              "        text-align: right;\n",
              "    }\n",
              "</style>\n",
              "<table border=\"1\" class=\"dataframe\">\n",
              "  <thead>\n",
              "    <tr style=\"text-align: right;\">\n",
              "      <th></th>\n",
              "      <th>vendor_id</th>\n",
              "      <th>passenger_count</th>\n",
              "      <th>pickup_longitude</th>\n",
              "      <th>pickup_latitude</th>\n",
              "      <th>dropoff_longitude</th>\n",
              "      <th>dropoff_latitude</th>\n",
              "      <th>trip_duration</th>\n",
              "      <th>distance</th>\n",
              "      <th>avg_speed</th>\n",
              "      <th>pickup_weekday_num</th>\n",
              "      <th>pickup_hour</th>\n",
              "      <th>month</th>\n",
              "    </tr>\n",
              "  </thead>\n",
              "  <tbody>\n",
              "    <tr>\n",
              "      <th>count</th>\n",
              "      <td>1.45864e+06</td>\n",
              "      <td>1.45864e+06</td>\n",
              "      <td>1.45864e+06</td>\n",
              "      <td>1.45864e+06</td>\n",
              "      <td>1.45864e+06</td>\n",
              "      <td>1.45864e+06</td>\n",
              "      <td>1.45864e+06</td>\n",
              "      <td>1.45864e+06</td>\n",
              "      <td>1.45864e+06</td>\n",
              "      <td>1.45864e+06</td>\n",
              "      <td>1.45864e+06</td>\n",
              "      <td>1.45864e+06</td>\n",
              "    </tr>\n",
              "    <tr>\n",
              "      <th>mean</th>\n",
              "      <td>1.53495</td>\n",
              "      <td>1.66453</td>\n",
              "      <td>-73.9735</td>\n",
              "      <td>40.7509</td>\n",
              "      <td>-73.9734</td>\n",
              "      <td>40.7518</td>\n",
              "      <td>959.492</td>\n",
              "      <td>3.44087</td>\n",
              "      <td>14.4232</td>\n",
              "      <td>3.05037</td>\n",
              "      <td>13.6065</td>\n",
              "      <td>3.51682</td>\n",
              "    </tr>\n",
              "    <tr>\n",
              "      <th>std</th>\n",
              "      <td>0.498777</td>\n",
              "      <td>1.31424</td>\n",
              "      <td>0.0709019</td>\n",
              "      <td>0.0328812</td>\n",
              "      <td>0.0706433</td>\n",
              "      <td>0.0358906</td>\n",
              "      <td>5237.43</td>\n",
              "      <td>4.29654</td>\n",
              "      <td>14.9775</td>\n",
              "      <td>1.95404</td>\n",
              "      <td>6.39969</td>\n",
              "      <td>1.68104</td>\n",
              "    </tr>\n",
              "    <tr>\n",
              "      <th>min</th>\n",
              "      <td>1</td>\n",
              "      <td>0</td>\n",
              "      <td>-121.933</td>\n",
              "      <td>34.3597</td>\n",
              "      <td>-121.933</td>\n",
              "      <td>32.1811</td>\n",
              "      <td>1</td>\n",
              "      <td>0</td>\n",
              "      <td>0</td>\n",
              "      <td>0</td>\n",
              "      <td>0</td>\n",
              "      <td>1</td>\n",
              "    </tr>\n",
              "    <tr>\n",
              "      <th>25%</th>\n",
              "      <td>1</td>\n",
              "      <td>1</td>\n",
              "      <td>-73.9919</td>\n",
              "      <td>40.7373</td>\n",
              "      <td>-73.9913</td>\n",
              "      <td>40.7359</td>\n",
              "      <td>397</td>\n",
              "      <td>1.23184</td>\n",
              "      <td>9.12129</td>\n",
              "      <td>1</td>\n",
              "      <td>9</td>\n",
              "      <td>2</td>\n",
              "    </tr>\n",
              "    <tr>\n",
              "      <th>50%</th>\n",
              "      <td>2</td>\n",
              "      <td>1</td>\n",
              "      <td>-73.9817</td>\n",
              "      <td>40.7541</td>\n",
              "      <td>-73.9798</td>\n",
              "      <td>40.7545</td>\n",
              "      <td>662</td>\n",
              "      <td>2.09372</td>\n",
              "      <td>12.792</td>\n",
              "      <td>3</td>\n",
              "      <td>14</td>\n",
              "      <td>4</td>\n",
              "    </tr>\n",
              "    <tr>\n",
              "      <th>75%</th>\n",
              "      <td>2</td>\n",
              "      <td>2</td>\n",
              "      <td>-73.9673</td>\n",
              "      <td>40.7684</td>\n",
              "      <td>-73.963</td>\n",
              "      <td>40.7698</td>\n",
              "      <td>1075</td>\n",
              "      <td>3.87534</td>\n",
              "      <td>17.8449</td>\n",
              "      <td>5</td>\n",
              "      <td>19</td>\n",
              "      <td>5</td>\n",
              "    </tr>\n",
              "    <tr>\n",
              "      <th>max</th>\n",
              "      <td>2</td>\n",
              "      <td>9</td>\n",
              "      <td>-61.3355</td>\n",
              "      <td>51.8811</td>\n",
              "      <td>-61.3355</td>\n",
              "      <td>43.921</td>\n",
              "      <td>3.52628e+06</td>\n",
              "      <td>1240.91</td>\n",
              "      <td>9274.85</td>\n",
              "      <td>6</td>\n",
              "      <td>23</td>\n",
              "      <td>6</td>\n",
              "    </tr>\n",
              "  </tbody>\n",
              "</table>\n",
              "</div>"
            ],
            "text/plain": [
              "         vendor_id passenger_count  ...  pickup_hour        month\n",
              "count  1.45864e+06     1.45864e+06  ...  1.45864e+06  1.45864e+06\n",
              "mean       1.53495         1.66453  ...      13.6065      3.51682\n",
              "std       0.498777         1.31424  ...      6.39969      1.68104\n",
              "min              1               0  ...            0            1\n",
              "25%              1               1  ...            9            2\n",
              "50%              2               1  ...           14            4\n",
              "75%              2               2  ...           19            5\n",
              "max              2               9  ...           23            6\n",
              "\n",
              "[8 rows x 12 columns]"
            ]
          },
          "metadata": {},
          "execution_count": 15
        }
      ]
    },
    {
      "cell_type": "code",
      "metadata": {
        "colab": {
          "base_uri": "https://localhost:8080/"
        },
        "id": "zatB0V-GxV8y",
        "outputId": "e878c366-1a8c-4c5f-a060-eb0fd14dfded"
      },
      "source": [
        "data.shape"
      ],
      "execution_count": 16,
      "outputs": [
        {
          "output_type": "execute_result",
          "data": {
            "text/plain": [
              "(1458644, 19)"
            ]
          },
          "metadata": {},
          "execution_count": 16
        }
      ]
    },
    {
      "cell_type": "code",
      "metadata": {
        "colab": {
          "base_uri": "https://localhost:8080/"
        },
        "id": "1-Ii95SWyBnk",
        "outputId": "393fe660-aa2c-4ac7-f8d4-a29322a2b302"
      },
      "source": [
        "data.columns"
      ],
      "execution_count": 17,
      "outputs": [
        {
          "output_type": "execute_result",
          "data": {
            "text/plain": [
              "Index(['id', 'vendor_id', 'pickup_datetime', 'dropoff_datetime',\n",
              "       'passenger_count', 'pickup_longitude', 'pickup_latitude',\n",
              "       'dropoff_longitude', 'dropoff_latitude', 'store_and_fwd_flag',\n",
              "       'trip_duration', 'distance', 'avg_speed', 'pickup_weekday',\n",
              "       'dropoff_weekday', 'pickup_weekday_num', 'pickup_hour', 'month',\n",
              "       'pickup_timeofday'],\n",
              "      dtype='object')"
            ]
          },
          "metadata": {},
          "execution_count": 17
        }
      ]
    },
    {
      "cell_type": "markdown",
      "metadata": {
        "id": "4b_28FC6s4C1"
      },
      "source": [
        "# Univariate Analysis"
      ]
    },
    {
      "cell_type": "code",
      "metadata": {
        "id": "a5SidJ0JiKHA"
      },
      "source": [
        "plt.rcParams[\"figure.figsize\"] = [10,6]"
      ],
      "execution_count": 18,
      "outputs": []
    },
    {
      "cell_type": "code",
      "metadata": {
        "colab": {
          "base_uri": "https://localhost:8080/",
          "height": 313
        },
        "id": "OGjW7sF_zxqW",
        "outputId": "a4fbaadd-3c6e-4e8d-d422-3d4ede9f240d"
      },
      "source": [
        "data.head()"
      ],
      "execution_count": 19,
      "outputs": [
        {
          "output_type": "execute_result",
          "data": {
            "text/html": [
              "<div>\n",
              "<style scoped>\n",
              "    .dataframe tbody tr th:only-of-type {\n",
              "        vertical-align: middle;\n",
              "    }\n",
              "\n",
              "    .dataframe tbody tr th {\n",
              "        vertical-align: top;\n",
              "    }\n",
              "\n",
              "    .dataframe thead th {\n",
              "        text-align: right;\n",
              "    }\n",
              "</style>\n",
              "<table border=\"1\" class=\"dataframe\">\n",
              "  <thead>\n",
              "    <tr style=\"text-align: right;\">\n",
              "      <th></th>\n",
              "      <th>id</th>\n",
              "      <th>vendor_id</th>\n",
              "      <th>pickup_datetime</th>\n",
              "      <th>dropoff_datetime</th>\n",
              "      <th>passenger_count</th>\n",
              "      <th>pickup_longitude</th>\n",
              "      <th>pickup_latitude</th>\n",
              "      <th>dropoff_longitude</th>\n",
              "      <th>dropoff_latitude</th>\n",
              "      <th>store_and_fwd_flag</th>\n",
              "      <th>trip_duration</th>\n",
              "      <th>distance</th>\n",
              "      <th>avg_speed</th>\n",
              "      <th>pickup_weekday</th>\n",
              "      <th>dropoff_weekday</th>\n",
              "      <th>pickup_weekday_num</th>\n",
              "      <th>pickup_hour</th>\n",
              "      <th>month</th>\n",
              "      <th>pickup_timeofday</th>\n",
              "    </tr>\n",
              "  </thead>\n",
              "  <tbody>\n",
              "    <tr>\n",
              "      <th>0</th>\n",
              "      <td>id2875421</td>\n",
              "      <td>2</td>\n",
              "      <td>2016-03-14 17:24:55</td>\n",
              "      <td>2016-03-14 17:32:30</td>\n",
              "      <td>1</td>\n",
              "      <td>-73.982155</td>\n",
              "      <td>40.767937</td>\n",
              "      <td>-73.964630</td>\n",
              "      <td>40.765602</td>\n",
              "      <td>N</td>\n",
              "      <td>455</td>\n",
              "      <td>1.498523</td>\n",
              "      <td>11.856445</td>\n",
              "      <td>Monday</td>\n",
              "      <td>Monday</td>\n",
              "      <td>0</td>\n",
              "      <td>17</td>\n",
              "      <td>3</td>\n",
              "      <td>Evening</td>\n",
              "    </tr>\n",
              "    <tr>\n",
              "      <th>1</th>\n",
              "      <td>id2377394</td>\n",
              "      <td>1</td>\n",
              "      <td>2016-06-12 00:43:35</td>\n",
              "      <td>2016-06-12 00:54:38</td>\n",
              "      <td>1</td>\n",
              "      <td>-73.980415</td>\n",
              "      <td>40.738564</td>\n",
              "      <td>-73.999481</td>\n",
              "      <td>40.731152</td>\n",
              "      <td>N</td>\n",
              "      <td>663</td>\n",
              "      <td>1.805510</td>\n",
              "      <td>9.803673</td>\n",
              "      <td>Sunday</td>\n",
              "      <td>Sunday</td>\n",
              "      <td>6</td>\n",
              "      <td>0</td>\n",
              "      <td>6</td>\n",
              "      <td>Late night</td>\n",
              "    </tr>\n",
              "    <tr>\n",
              "      <th>2</th>\n",
              "      <td>id3858529</td>\n",
              "      <td>2</td>\n",
              "      <td>2016-01-19 11:35:24</td>\n",
              "      <td>2016-01-19 12:10:48</td>\n",
              "      <td>1</td>\n",
              "      <td>-73.979027</td>\n",
              "      <td>40.763939</td>\n",
              "      <td>-74.005333</td>\n",
              "      <td>40.710087</td>\n",
              "      <td>N</td>\n",
              "      <td>2124</td>\n",
              "      <td>6.385108</td>\n",
              "      <td>10.822216</td>\n",
              "      <td>Tuesday</td>\n",
              "      <td>Tuesday</td>\n",
              "      <td>1</td>\n",
              "      <td>11</td>\n",
              "      <td>1</td>\n",
              "      <td>Morning</td>\n",
              "    </tr>\n",
              "    <tr>\n",
              "      <th>3</th>\n",
              "      <td>id3504673</td>\n",
              "      <td>2</td>\n",
              "      <td>2016-04-06 19:32:31</td>\n",
              "      <td>2016-04-06 19:39:40</td>\n",
              "      <td>1</td>\n",
              "      <td>-74.010040</td>\n",
              "      <td>40.719971</td>\n",
              "      <td>-74.012268</td>\n",
              "      <td>40.706718</td>\n",
              "      <td>N</td>\n",
              "      <td>429</td>\n",
              "      <td>1.485501</td>\n",
              "      <td>12.465739</td>\n",
              "      <td>Wednesday</td>\n",
              "      <td>Wednesday</td>\n",
              "      <td>2</td>\n",
              "      <td>19</td>\n",
              "      <td>4</td>\n",
              "      <td>Evening</td>\n",
              "    </tr>\n",
              "    <tr>\n",
              "      <th>4</th>\n",
              "      <td>id2181028</td>\n",
              "      <td>2</td>\n",
              "      <td>2016-03-26 13:30:55</td>\n",
              "      <td>2016-03-26 13:38:10</td>\n",
              "      <td>1</td>\n",
              "      <td>-73.973053</td>\n",
              "      <td>40.793209</td>\n",
              "      <td>-73.972923</td>\n",
              "      <td>40.782520</td>\n",
              "      <td>N</td>\n",
              "      <td>435</td>\n",
              "      <td>1.188590</td>\n",
              "      <td>9.836608</td>\n",
              "      <td>Saturday</td>\n",
              "      <td>Saturday</td>\n",
              "      <td>5</td>\n",
              "      <td>13</td>\n",
              "      <td>3</td>\n",
              "      <td>Afternoon</td>\n",
              "    </tr>\n",
              "  </tbody>\n",
              "</table>\n",
              "</div>"
            ],
            "text/plain": [
              "          id  vendor_id  ... month pickup_timeofday\n",
              "0  id2875421          2  ...     3          Evening\n",
              "1  id2377394          1  ...     6       Late night\n",
              "2  id3858529          2  ...     1          Morning\n",
              "3  id3504673          2  ...     4          Evening\n",
              "4  id2181028          2  ...     3        Afternoon\n",
              "\n",
              "[5 rows x 19 columns]"
            ]
          },
          "metadata": {},
          "execution_count": 19
        }
      ]
    },
    {
      "cell_type": "markdown",
      "metadata": {
        "id": "KEq7nVpsJ23m"
      },
      "source": [
        "##Column 1 and 2: column 'id' and 'vendor_id' is not relevent to predict trip time"
      ]
    },
    {
      "cell_type": "code",
      "metadata": {
        "colab": {
          "base_uri": "https://localhost:8080/",
          "height": 443
        },
        "id": "43ApFN-IJ9_S",
        "outputId": "1be94765-6e91-409d-ef38-d99f3c56e613"
      },
      "source": [
        "sns.countplot(data.vendor_id)\n",
        "plt.xlabel('Vendor ID')\n",
        "plt.ylabel('Count')\n",
        "plt.show()"
      ],
      "execution_count": 56,
      "outputs": [
        {
          "output_type": "stream",
          "name": "stderr",
          "text": [
            "/usr/local/lib/python3.7/dist-packages/seaborn/_decorators.py:43: FutureWarning: Pass the following variable as a keyword arg: x. From version 0.12, the only valid positional argument will be `data`, and passing other arguments without an explicit keyword will result in an error or misinterpretation.\n",
            "  FutureWarning\n"
          ]
        },
        {
          "output_type": "display_data",
          "data": {
            "image/png": "[encoded data removed]",
            "text/plain": [
              "<Figure size 720x432 with 1 Axes>"
            ]
          },
          "metadata": {
            "needs_background": "light"
          }
        }
      ]
    },
    {
      "cell_type": "code",
      "metadata": {
        "id": "UK5xisf4KG5X"
      },
      "source": [
        ""
      ],
      "execution_count": null,
      "outputs": []
    },
    {
      "cell_type": "markdown",
      "metadata": {
        "id": "8kH4XLB2KEvH"
      },
      "source": [
        "## **column 3 and column 4**: from'pickup_datetime' and 'dropoff_datetime' column we created new feature column like '**pickup_weekday**', '**dropoff_weekday**' '**pickup_weekday_num**', '**pickup_hour \tmonth**', and '**pickup_timeofday**'."
      ]
    },
    {
      "cell_type": "markdown",
      "metadata": {
        "id": "QwSUJwmwLHyl"
      },
      "source": [
        "##**column 5: Passenger_count** <br>\n",
        "from the graph, we can reomve entries with 0, 7, 8, 9 passenger per trip.\n"
      ]
    },
    {
      "cell_type": "code",
      "metadata": {
        "colab": {
          "base_uri": "https://localhost:8080/",
          "height": 400
        },
        "id": "bzh_-KcaJwIw",
        "outputId": "99f39781-2ed2-4b23-b4a2-895a971c9032"
      },
      "source": [
        "data.passenger_count.value_counts().plot(kind=\"bar\")\n",
        "plt.xlabel(\"number of passenger\")\n",
        "plt.ylabel(\"No of entries\")\n",
        "plt.title(\"Maximum number of passenger  per trip\")\n",
        "plt.show()\n",
        "\n"
      ],
      "execution_count": 20,
      "outputs": [
        {
          "output_type": "display_data",
          "data": {
            "image/png": "[encoded data removed]",
            "text/plain": [
              "<Figure size 720x432 with 1 Axes>"
            ]
          },
          "metadata": {
            "needs_background": "light"
          }
        }
      ]
    },
    {
      "cell_type": "markdown",
      "metadata": {
        "id": "BKDzir0dVHlF"
      },
      "source": [
        "## column 6: pickup_latitude \tpickup_longitude <br>\n"
      ]
    },
    {
      "cell_type": "code",
      "metadata": {
        "id": "39bCtidPdJZ_"
      },
      "source": [
        "import folium\n",
        "from folium.plugins import HeatMap\n",
        "from folium import plugins\n"
      ],
      "execution_count": 21,
      "outputs": []
    },
    {
      "cell_type": "code",
      "metadata": {
        "id": "J0DLFHdjdMGz"
      },
      "source": [
        "map_NYC = folium.Map([60,-120],zoom_start=7)"
      ],
      "execution_count": 22,
      "outputs": []
    },
    {
      "cell_type": "code",
      "metadata": {
        "id": "gf3okAXmdNL1"
      },
      "source": [
        "station = data[['pickup_longitude','pickup_latitude']]\n",
        "# convert to (n, 2) nd-array format for heatmap\n",
        "stationArr = station.values\n",
        "\n",
        "# plot heatmap\n",
        "map_NYC.add_child(plugins.HeatMap(stationArr, radius=15))\n",
        "map_NYC"
      ],
      "execution_count": 23,
      "outputs": []
    },
    {
      "cell_type": "markdown",
      "metadata": {
        "id": "E7izaucdddgU"
      },
      "source": [
        "## column 8 & 9: dropoff_latitude \tdropoff_longitude <br>"
      ]
    },
    {
      "cell_type": "code",
      "metadata": {
        "id": "kMxtIJHXd18l"
      },
      "source": [
        "map_NYC = folium.Map([40.80902,-73.94190],zoom_start=7)"
      ],
      "execution_count": 24,
      "outputs": []
    },
    {
      "cell_type": "code",
      "metadata": {
        "id": "DSxjxRsad2oS"
      },
      "source": [
        "station_drop = data[['dropoff_latitude', 'dropoff_longitude']]\n",
        "# convert to (n, 2) nd-array format for heatmap\n",
        "stationArr_drop = station_drop.values\n",
        "\n",
        "# plot heatmap\n",
        "map_NYC.add_child(plugins.HeatMap(stationArr_drop, radius=15))\n",
        "map_NYC"
      ],
      "execution_count": null,
      "outputs": []
    },
    {
      "cell_type": "markdown",
      "metadata": {
        "id": "FsLFrCwUf3zj"
      },
      "source": [
        "## column 10: Store and forward flag"
      ]
    },
    {
      "cell_type": "code",
      "metadata": {
        "id": "VI0z8SgmiFCK",
        "colab": {
          "base_uri": "https://localhost:8080/"
        },
        "outputId": "395ee189-2fd9-4846-8e42-b007a9ef98a3"
      },
      "source": [
        "data['store_and_fwd_flag'].value_counts()\n",
        "\n",
        "data['store_and_fwd_flag'].value_counts(normalize=True)\n"
      ],
      "execution_count": 57,
      "outputs": [
        {
          "output_type": "execute_result",
          "data": {
            "text/plain": [
              "N    0.994394\n",
              "Y    0.005606\n",
              "Name: store_and_fwd_flag, dtype: float64"
            ]
          },
          "metadata": {},
          "execution_count": 57
        }
      ]
    },
    {
      "cell_type": "code",
      "metadata": {
        "id": "fKsQQ2YSiFIJ",
        "colab": {
          "base_uri": "https://localhost:8080/",
          "height": 399
        },
        "outputId": "e642ad38-52c8-41bb-e050-bd877be227fe"
      },
      "source": [
        "sns.countplot(x='store_and_fwd_flag',data=data)\n",
        "plt.ylabel('Count')\n",
        "plt.xlabel('Store and forward flag')\n",
        "plt.show()"
      ],
      "execution_count": 58,
      "outputs": [
        {
          "output_type": "display_data",
          "data": {
            "image/png": "[encoded data removed]",
            "text/plain": [
              "<Figure size 720x432 with 1 Axes>"
            ]
          },
          "metadata": {
            "needs_background": "light"
          }
        }
      ]
    },
    {
      "cell_type": "markdown",
      "metadata": {
        "id": "8_53oWIsKmA2"
      },
      "source": [
        " We can see that only about 0.5% of the trip details were stored in the vehicle memory first"
      ]
    },
    {
      "cell_type": "markdown",
      "metadata": {
        "id": "ZjSb4MK_K6qp"
      },
      "source": [
        "##column 11: trip duration <br>\n"
      ]
    },
    {
      "cell_type": "code",
      "metadata": {
        "colab": {
          "base_uri": "https://localhost:8080/",
          "height": 443
        },
        "id": "FKIOvcaxXhZZ",
        "outputId": "648d03a6-c6ad-47cd-abe5-4a99e095db44"
      },
      "source": [
        "#create boxplot to check probable outliers\n",
        "sns.boxplot(data.trip_duration)\n",
        "plt.xlabel('Trip Duration')\n",
        "plt.show()"
      ],
      "execution_count": 68,
      "outputs": [
        {
          "output_type": "stream",
          "name": "stderr",
          "text": [
            "/usr/local/lib/python3.7/dist-packages/seaborn/_decorators.py:43: FutureWarning: Pass the following variable as a keyword arg: x. From version 0.12, the only valid positional argument will be `data`, and passing other arguments without an explicit keyword will result in an error or misinterpretation.\n",
            "  FutureWarning\n"
          ]
        },
        {
          "output_type": "display_data",
          "data": {
            "image/png": "[encoded data removed]",
            "text/plain": [
              "<Figure size 720x432 with 1 Axes>"
            ]
          },
          "metadata": {
            "needs_background": "light"
          }
        }
      ]
    },
    {
      "cell_type": "code",
      "metadata": {
        "colab": {
          "base_uri": "https://localhost:8080/",
          "height": 444
        },
        "id": "Lrvi_zpCLPSi",
        "outputId": "8c0b0c7c-1ed3-4041-d453-fb931aaa2dba"
      },
      "source": [
        "#to check skewness of data \n",
        "sns.distplot(data['trip_duration'],norm_hist=True)\n",
        "plt.show()"
      ],
      "execution_count": 62,
      "outputs": [
        {
          "output_type": "stream",
          "name": "stderr",
          "text": [
            "/usr/local/lib/python3.7/dist-packages/seaborn/distributions.py:2619: FutureWarning: `distplot` is a deprecated function and will be removed in a future version. Please adapt your code to use either `displot` (a figure-level function with similar flexibility) or `histplot` (an axes-level function for histograms).\n",
            "  warnings.warn(msg, FutureWarning)\n"
          ]
        },
        {
          "output_type": "display_data",
          "data": {
            "image/png": "[encoded data removed]",
            "text/plain": [
              "<Figure size 720x432 with 1 Axes>"
            ]
          },
          "metadata": {
            "needs_background": "light"
          }
        }
      ]
    },
    {
      "cell_type": "code",
      "metadata": {
        "colab": {
          "base_uri": "https://localhost:8080/"
        },
        "id": "rJrVF_ztTt7c",
        "outputId": "2420e3f6-17ca-4d8c-f797-1053db7e8652"
      },
      "source": [
        "print(f\" skew coefficient is {data['trip_duration'].skew()}\")"
      ],
      "execution_count": 66,
      "outputs": [
        {
          "output_type": "stream",
          "name": "stdout",
          "text": [
            " skew coefficient is 1.9015888650786548\n"
          ]
        }
      ]
    },
    {
      "cell_type": "markdown",
      "metadata": {
        "id": "65Ej7V5QUI7I"
      },
      "source": [
        "data is right skewed. using log transformation we can remove skewness."
      ]
    },
    {
      "cell_type": "code",
      "metadata": {
        "colab": {
          "base_uri": "https://localhost:8080/",
          "height": 444
        },
        "id": "E623mGFNU03m",
        "outputId": "30b4ed29-269e-42e8-cc98-f1ad4a826123"
      },
      "source": [
        "sns.distplot(np.log(data['trip_duration']))\n",
        "plt.show()"
      ],
      "execution_count": 65,
      "outputs": [
        {
          "output_type": "stream",
          "name": "stderr",
          "text": [
            "/usr/local/lib/python3.7/dist-packages/seaborn/distributions.py:2619: FutureWarning: `distplot` is a deprecated function and will be removed in a future version. Please adapt your code to use either `displot` (a figure-level function with similar flexibility) or `histplot` (an axes-level function for histograms).\n",
            "  warnings.warn(msg, FutureWarning)\n"
          ]
        },
        {
          "output_type": "display_data",
          "data": {
            "image/png": "[encoded data removed]",
            "text/plain": [
              "<Figure size 720x432 with 1 Axes>"
            ]
          },
          "metadata": {
            "needs_background": "light"
          }
        }
      ]
    },
    {
      "cell_type": "code",
      "metadata": {
        "colab": {
          "base_uri": "https://localhost:8080/"
        },
        "id": "REsiFBEKUiwC",
        "outputId": "a12192a2-6a30-494d-ec77-9fbeddb76e5c"
      },
      "source": [
        "np.log(data['trip_duration'])\n",
        "data_trip_duration = np.log(data['trip_duration'])\n",
        "print(f\" skew coefficient went from {data['trip_duration'].skew()} to {data_trip_duration.skew()}\")"
      ],
      "execution_count": 71,
      "outputs": [
        {
          "output_type": "stream",
          "name": "stdout",
          "text": [
            " skew coefficient went from 1.9015888650786548 to 0.03514293844067826\n"
          ]
        }
      ]
    },
    {
      "cell_type": "markdown",
      "metadata": {
        "id": "C-wQkZ9YbDPZ"
      },
      "source": [
        "## column 12: distance <br>"
      ]
    },
    {
      "cell_type": "code",
      "metadata": {
        "colab": {
          "base_uri": "https://localhost:8080/",
          "height": 443
        },
        "id": "L98YEYPwbPvQ",
        "outputId": "192ca1d7-d5ce-406d-f906-3ae0afc4fd2b"
      },
      "source": [
        "sns.boxplot(data.distance)\n",
        "plt.xlabel('Distance')\n",
        "plt.show()"
      ],
      "execution_count": 72,
      "outputs": [
        {
          "output_type": "stream",
          "name": "stderr",
          "text": [
            "/usr/local/lib/python3.7/dist-packages/seaborn/_decorators.py:43: FutureWarning: Pass the following variable as a keyword arg: x. From version 0.12, the only valid positional argument will be `data`, and passing other arguments without an explicit keyword will result in an error or misinterpretation.\n",
            "  FutureWarning\n"
          ]
        },
        {
          "output_type": "display_data",
          "data": {
            "image/png": "[encoded data removed]",
            "text/plain": [
              "<Figure size 720x432 with 1 Axes>"
            ]
          },
          "metadata": {
            "needs_background": "light"
          }
        }
      ]
    },
    {
      "cell_type": "markdown",
      "metadata": {
        "id": "s19qnW9ubDVe"
      },
      "source": [
        "## column 13: "
      ]
    },
    {
      "cell_type": "markdown",
      "metadata": {
        "id": "LdOE3aGnJepE"
      },
      "source": [
        "##column 19: pick up time of day"
      ]
    },
    {
      "cell_type": "code",
      "metadata": {
        "id": "PniPSxlyic8A"
      },
      "source": [
        "# bar plot for pickup time of a day\n",
        "data[\"pickup_timeofday\"].value_counts().plot(kind='bar')\n",
        "plt.xlabel(\"Time of day\")\n",
        "plt.ylabel(\"No of entries\")\n",
        "plt.title(\"Number of peakup's at time of day\")\n",
        "plt.show()\n"
      ],
      "execution_count": null,
      "outputs": []
    }
  ]
}